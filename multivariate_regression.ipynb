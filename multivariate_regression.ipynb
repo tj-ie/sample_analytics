{
 "cells": [
  {
   "cell_type": "code",
   "execution_count": 1,
   "id": "cf779059-b9c2-4018-b1fa-306c608df2fd",
   "metadata": {},
   "outputs": [],
   "source": [
    "from semopy import Model\n",
    "from semopy.examples import multivariate_regression"
   ]
  },
  {
   "cell_type": "code",
   "execution_count": 2,
   "id": "3601099d-9ac8-4fd8-bf1a-7c8f60c27b04",
   "metadata": {},
   "outputs": [
    {
     "name": "stdout",
     "output_type": "stream",
     "text": [
      "y ~ x1 + x2 + x3\n"
     ]
    }
   ],
   "source": [
    "desc = multivariate_regression.get_model()\n",
    "data = multivariate_regression.get_data()\n",
    "print(desc)"
   ]
  },
  {
   "cell_type": "code",
   "execution_count": 4,
   "id": "66219d47-c8f9-4442-a170-ec6bb83c5ce5",
   "metadata": {},
   "outputs": [
    {
     "name": "stdout",
     "output_type": "stream",
     "text": [
      "Name of objective: MLW\n",
      "Optimization method: SLSQP\n",
      "Optimization successful.\n",
      "Optimization terminated successfully\n",
      "Objective value: 0.000\n",
      "Number of iterations: 67\n",
      "Params: 1.943 6.037 -9.770 1.023\n",
      "----------------------------------------\n",
      "  lval  op rval  Estimate  Std. Err     z-value       p-value\n",
      "0    y   ~   x1  1.943064  0.057123   34.015436  0.000000e+00\n",
      "1    y   ~   x2  6.037298  0.016445  367.115080  0.000000e+00\n",
      "2    y   ~   x3 -9.770027  0.105060  -92.994606  0.000000e+00\n",
      "3    y  ~~    y  1.023483  0.144742    7.071068  1.537437e-12\n"
     ]
    }
   ],
   "source": [
    "mod = Model(desc)\n",
    "res_opt = mod.fit(data)\n",
    "estimates = mod.inspect()\n",
    "\n",
    "print(res_opt)\n",
    "print('-' * 40)\n",
    "print(estimates)"
   ]
  },
  {
   "cell_type": "code",
   "execution_count": null,
   "id": "b171da49-0960-4a22-b452-16631dd1c66b",
   "metadata": {},
   "outputs": [],
   "source": []
  }
 ],
 "metadata": {
  "kernelspec": {
   "display_name": "Python 3",
   "language": "python",
   "name": "python3"
  },
  "language_info": {
   "codemirror_mode": {
    "name": "ipython",
    "version": 3
   },
   "file_extension": ".py",
   "mimetype": "text/x-python",
   "name": "python",
   "nbconvert_exporter": "python",
   "pygments_lexer": "ipython3",
   "version": "3.9.4"
  }
 },
 "nbformat": 4,
 "nbformat_minor": 5
}
