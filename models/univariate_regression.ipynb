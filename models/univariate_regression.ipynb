{
 "cells": [
  {
   "cell_type": "code",
   "execution_count": 1,
   "id": "f8c86008-ac79-4f8b-83c4-60340b2f9029",
   "metadata": {},
   "outputs": [],
   "source": [
    "import semopy\n",
    "from semopy import Model\n",
    "from semopy.examples import univariate_regression"
   ]
  },
  {
   "cell_type": "code",
   "execution_count": 2,
   "id": "f48f3a7c-170d-4c19-91e1-c5b3e8a7767e",
   "metadata": {},
   "outputs": [
    {
     "name": "stdout",
     "output_type": "stream",
     "text": [
      "y ~ x\n"
     ]
    }
   ],
   "source": [
    "desc = univariate_regression.get_model()\n",
    "data = univariate_regression.get_data()\n",
    "print(desc)"
   ]
  },
  {
   "cell_type": "code",
   "execution_count": 7,
   "id": "8dd6cdd1-8d51-4c00-9386-47d3361eb00f",
   "metadata": {},
   "outputs": [
    {
     "name": "stdout",
     "output_type": "stream",
     "text": [
      "Name of objective: MLW\n",
      "Optimization method: SLSQP\n",
      "Optimization successful.\n",
      "Optimization terminated successfully\n",
      "Objective value: 0.000\n",
      "Number of iterations: 26\n",
      "Params: 4.983 0.214\n",
      "----------------------------------------\n",
      "  lval  op rval  Estimate  Std. Err     z-value       p-value\n",
      "0    y   ~    x  4.982854  0.014061  354.371993  0.000000e+00\n",
      "1    y  ~~    y  0.213843  0.030242    7.071068  1.537437e-12\n"
     ]
    }
   ],
   "source": [
    "mod = Model(desc)\n",
    "res_opt = mod.fit(data)\n",
    "estimates = mod.inspect()\n",
    "print(res_opt)\n",
    "print('-' * 40)\n",
    "print(estimates)"
   ]
  },
  {
   "cell_type": "code",
   "execution_count": null,
   "id": "f9ba483e-803c-442e-9ba9-26cbdaed7501",
   "metadata": {},
   "outputs": [],
   "source": []
  }
 ],
 "metadata": {
  "kernelspec": {
   "display_name": "Python 3",
   "language": "python",
   "name": "python3"
  },
  "language_info": {
   "codemirror_mode": {
    "name": "ipython",
    "version": 3
   },
   "file_extension": ".py",
   "mimetype": "text/x-python",
   "name": "python",
   "nbconvert_exporter": "python",
   "pygments_lexer": "ipython3",
   "version": "3.9.4"
  }
 },
 "nbformat": 4,
 "nbformat_minor": 5
}
