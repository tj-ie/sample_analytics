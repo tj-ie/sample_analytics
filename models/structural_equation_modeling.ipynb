{
 "cells": [
  {
   "cell_type": "code",
   "execution_count": 1,
   "id": "0c547547-0f60-4615-84a7-d7e30739bb80",
   "metadata": {},
   "outputs": [],
   "source": [
    "import numpy as np\n",
    "import os\n",
    "import pandas as pd\n",
    "from pandas_profiling import ProfileReport\n",
    "import semopy"
   ]
  },
  {
   "cell_type": "code",
   "execution_count": 2,
   "id": "9fd2d6c5-07ed-4e4b-92ff-e7ac888b2793",
   "metadata": {},
   "outputs": [],
   "source": [
    "df_scores = pd.read_csv(os.path.join('data', '12_subject_scores.csv'), sep='\\t')"
   ]
  },
  {
   "cell_type": "code",
   "execution_count": 3,
   "id": "efbba54c-6f43-4794-8096-7d893665727a",
   "metadata": {},
   "outputs": [
    {
     "data": {
      "text/html": [
       "<div>\n",
       "<style scoped>\n",
       "    .dataframe tbody tr th:only-of-type {\n",
       "        vertical-align: middle;\n",
       "    }\n",
       "\n",
       "    .dataframe tbody tr th {\n",
       "        vertical-align: top;\n",
       "    }\n",
       "\n",
       "    .dataframe thead th {\n",
       "        text-align: right;\n",
       "    }\n",
       "</style>\n",
       "<table border=\"1\" class=\"dataframe\">\n",
       "  <thead>\n",
       "    <tr style=\"text-align: right;\">\n",
       "      <th></th>\n",
       "      <th>国語</th>\n",
       "      <th>英語</th>\n",
       "      <th>数学</th>\n",
       "      <th>物理</th>\n",
       "      <th>化学</th>\n",
       "      <th>生物</th>\n",
       "      <th>地学</th>\n",
       "      <th>世界史</th>\n",
       "      <th>日本史</th>\n",
       "      <th>経済</th>\n",
       "      <th>地理</th>\n",
       "      <th>倫理</th>\n",
       "    </tr>\n",
       "  </thead>\n",
       "  <tbody>\n",
       "    <tr>\n",
       "      <th>0</th>\n",
       "      <td>-0.394296</td>\n",
       "      <td>-0.863552</td>\n",
       "      <td>0.299784</td>\n",
       "      <td>0.052264</td>\n",
       "      <td>-0.193747</td>\n",
       "      <td>1.762086</td>\n",
       "      <td>-0.458840</td>\n",
       "      <td>-0.889665</td>\n",
       "      <td>-0.163093</td>\n",
       "      <td>-0.939310</td>\n",
       "      <td>-0.149300</td>\n",
       "      <td>-2.286900</td>\n",
       "    </tr>\n",
       "    <tr>\n",
       "      <th>1</th>\n",
       "      <td>-1.062188</td>\n",
       "      <td>-0.061273</td>\n",
       "      <td>-0.572619</td>\n",
       "      <td>-0.544283</td>\n",
       "      <td>-0.305108</td>\n",
       "      <td>1.988985</td>\n",
       "      <td>-0.166363</td>\n",
       "      <td>0.610966</td>\n",
       "      <td>-0.951714</td>\n",
       "      <td>1.390854</td>\n",
       "      <td>-0.226003</td>\n",
       "      <td>-0.031098</td>\n",
       "    </tr>\n",
       "    <tr>\n",
       "      <th>2</th>\n",
       "      <td>-0.669470</td>\n",
       "      <td>-0.751437</td>\n",
       "      <td>0.574793</td>\n",
       "      <td>-0.379771</td>\n",
       "      <td>-0.539259</td>\n",
       "      <td>-0.623499</td>\n",
       "      <td>-1.034320</td>\n",
       "      <td>0.393436</td>\n",
       "      <td>1.439274</td>\n",
       "      <td>2.218160</td>\n",
       "      <td>0.716289</td>\n",
       "      <td>-0.462702</td>\n",
       "    </tr>\n",
       "    <tr>\n",
       "      <th>3</th>\n",
       "      <td>0.776026</td>\n",
       "      <td>1.166164</td>\n",
       "      <td>-0.986413</td>\n",
       "      <td>-0.723857</td>\n",
       "      <td>-0.091960</td>\n",
       "      <td>-0.150870</td>\n",
       "      <td>-0.047286</td>\n",
       "      <td>-2.427921</td>\n",
       "      <td>0.433994</td>\n",
       "      <td>-1.270779</td>\n",
       "      <td>0.323981</td>\n",
       "      <td>1.406393</td>\n",
       "    </tr>\n",
       "    <tr>\n",
       "      <th>4</th>\n",
       "      <td>-2.212173</td>\n",
       "      <td>-0.571762</td>\n",
       "      <td>-0.842556</td>\n",
       "      <td>-0.849638</td>\n",
       "      <td>-0.280362</td>\n",
       "      <td>-1.089733</td>\n",
       "      <td>-0.836957</td>\n",
       "      <td>-0.812882</td>\n",
       "      <td>-1.702264</td>\n",
       "      <td>-0.365675</td>\n",
       "      <td>-0.113076</td>\n",
       "      <td>-2.497812</td>\n",
       "    </tr>\n",
       "  </tbody>\n",
       "</table>\n",
       "</div>"
      ],
      "text/plain": [
       "         国語        英語        数学        物理        化学        生物        地学  \\\n",
       "0 -0.394296 -0.863552  0.299784  0.052264 -0.193747  1.762086 -0.458840   \n",
       "1 -1.062188 -0.061273 -0.572619 -0.544283 -0.305108  1.988985 -0.166363   \n",
       "2 -0.669470 -0.751437  0.574793 -0.379771 -0.539259 -0.623499 -1.034320   \n",
       "3  0.776026  1.166164 -0.986413 -0.723857 -0.091960 -0.150870 -0.047286   \n",
       "4 -2.212173 -0.571762 -0.842556 -0.849638 -0.280362 -1.089733 -0.836957   \n",
       "\n",
       "        世界史       日本史        経済        地理        倫理  \n",
       "0 -0.889665 -0.163093 -0.939310 -0.149300 -2.286900  \n",
       "1  0.610966 -0.951714  1.390854 -0.226003 -0.031098  \n",
       "2  0.393436  1.439274  2.218160  0.716289 -0.462702  \n",
       "3 -2.427921  0.433994 -1.270779  0.323981  1.406393  \n",
       "4 -0.812882 -1.702264 -0.365675 -0.113076 -2.497812  "
      ]
     },
     "metadata": {},
     "output_type": "display_data"
    }
   ],
   "source": [
    "display(df_scores.head())"
   ]
  },
  {
   "cell_type": "code",
   "execution_count": 4,
   "id": "20f6ff67-ec15-4a29-9be2-b55ce2876ae2",
   "metadata": {},
   "outputs": [],
   "source": [
    "# Define\n",
    "mod = \"\"\"\\\n",
    "lang =~ 国語 + 英語 + 倫理\n",
    "math =~ 数学 + 物理 + 化学\n",
    "memory =~ 生物 + 地学 + 日本史 + 世界史 + 地理 + 経済\n",
    "math ~ lang\n",
    "memory ~ lang\n",
    "math ~~ memory\n",
    "\"\"\"\n",
    "\n",
    "model = semopy.Model(mod)"
   ]
  },
  {
   "cell_type": "code",
   "execution_count": 5,
   "id": "3404c249-d7fd-451b-9835-5ca476c51b1a",
   "metadata": {},
   "outputs": [],
   "source": [
    "# load data\n",
    "model.load_dataset(df_scores)"
   ]
  },
  {
   "cell_type": "code",
   "execution_count": 8,
   "id": "2943c5fc-5c02-4eab-a96c-850ecf64c65a",
   "metadata": {},
   "outputs": [
    {
     "ename": "AttributeError",
     "evalue": "module 'semopy' has no attribute 'Optimizer'",
     "output_type": "error",
     "traceback": [
      "\u001b[0;31m---------------------------------------------------------------------------\u001b[0m",
      "\u001b[0;31mAttributeError\u001b[0m                            Traceback (most recent call last)",
      "\u001b[0;32m<ipython-input-8-e9d86b9a776f>\u001b[0m in \u001b[0;36m<module>\u001b[0;34m\u001b[0m\n\u001b[0;32m----> 1\u001b[0;31m \u001b[0mopt\u001b[0m \u001b[0;34m=\u001b[0m \u001b[0msemopy\u001b[0m\u001b[0;34m.\u001b[0m\u001b[0mOptimizer\u001b[0m\u001b[0;34m(\u001b[0m\u001b[0mmodel\u001b[0m\u001b[0;34m)\u001b[0m\u001b[0;34m\u001b[0m\u001b[0;34m\u001b[0m\u001b[0m\n\u001b[0m\u001b[1;32m      2\u001b[0m \u001b[0mobjective_function_value\u001b[0m \u001b[0;34m=\u001b[0m \u001b[0mopt\u001b[0m\u001b[0;34m.\u001b[0m\u001b[0moptimize\u001b[0m\u001b[0;34m(\u001b[0m\u001b[0;34m)\u001b[0m\u001b[0;34m\u001b[0m\u001b[0;34m\u001b[0m\u001b[0m\n\u001b[1;32m      3\u001b[0m \u001b[0mobjective_function_value\u001b[0m\u001b[0;34m\u001b[0m\u001b[0;34m\u001b[0m\u001b[0m\n",
      "\u001b[0;31mAttributeError\u001b[0m: module 'semopy' has no attribute 'Optimizer'"
     ]
    }
   ],
   "source": [
    "opt = semopy.Optimizer(model)\n",
    "objective_function_value = opt.optimize()\n",
    "objective_function_value"
   ]
  },
  {
   "cell_type": "code",
   "execution_count": 9,
   "id": "5ee0a8ff-9c0b-4d28-bfde-8a7e461c6354",
   "metadata": {},
   "outputs": [
    {
     "ename": "AttributeError",
     "evalue": "module 'semopy' has no attribute 'inspect'",
     "output_type": "error",
     "traceback": [
      "\u001b[0;31m---------------------------------------------------------------------------\u001b[0m",
      "\u001b[0;31mAttributeError\u001b[0m                            Traceback (most recent call last)",
      "\u001b[0;32m<ipython-input-9-f03c7efe624a>\u001b[0m in \u001b[0;36m<module>\u001b[0;34m\u001b[0m\n\u001b[0;32m----> 1\u001b[0;31m \u001b[0mdf_result\u001b[0m \u001b[0;34m=\u001b[0m \u001b[0msemopy\u001b[0m\u001b[0;34m.\u001b[0m\u001b[0minspect\u001b[0m\u001b[0;34m(\u001b[0m\u001b[0mopt\u001b[0m\u001b[0;34m)\u001b[0m\u001b[0;34m\u001b[0m\u001b[0;34m\u001b[0m\u001b[0m\n\u001b[0m\u001b[1;32m      2\u001b[0m \u001b[0;34m\u001b[0m\u001b[0m\n\u001b[1;32m      3\u001b[0m \u001b[0mdf_result\u001b[0m\u001b[0;34m\u001b[0m\u001b[0;34m\u001b[0m\u001b[0m\n",
      "\u001b[0;31mAttributeError\u001b[0m: module 'semopy' has no attribute 'inspect'"
     ]
    }
   ],
   "source": [
    "df_result = semopy.inspect(opt)\n",
    "\n",
    "df_result"
   ]
  },
  {
   "cell_type": "code",
   "execution_count": 10,
   "id": "4b072c2a-7798-4949-b0c5-cf7ef8e5a9fc",
   "metadata": {},
   "outputs": [
    {
     "ename": "AttributeError",
     "evalue": "module 'pandas' has no attribute 'conct'",
     "output_type": "error",
     "traceback": [
      "\u001b[0;31m---------------------------------------------------------------------------\u001b[0m",
      "\u001b[0;31mAttributeError\u001b[0m                            Traceback (most recent call last)",
      "\u001b[0;32m<ipython-input-10-87b2da6ea2d8>\u001b[0m in \u001b[0;36m<module>\u001b[0;34m\u001b[0m\n\u001b[0;32m----> 1\u001b[0;31m \u001b[0mdf_result\u001b[0m \u001b[0;34m=\u001b[0m \u001b[0mpd\u001b[0m\u001b[0;34m.\u001b[0m\u001b[0mconct\u001b[0m\u001b[0;34m(\u001b[0m\u001b[0;34m[\u001b[0m\u001b[0mdf_result\u001b[0m\u001b[0;34m,\u001b[0m \u001b[0mdf_trivial_result\u001b[0m\u001b[0;34m]\u001b[0m\u001b[0;34m,\u001b[0m \u001b[0maxis\u001b[0m\u001b[0;34m=\u001b[0m\u001b[0;36m0\u001b[0m\u001b[0;34m,\u001b[0m \u001b[0mignore_index\u001b[0m\u001b[0;34m=\u001b[0m\u001b[0;32mTrue\u001b[0m\u001b[0;34m)\u001b[0m\u001b[0;34m\u001b[0m\u001b[0;34m\u001b[0m\u001b[0m\n\u001b[0m\u001b[1;32m      2\u001b[0m \u001b[0;34m\u001b[0m\u001b[0m\n\u001b[1;32m      3\u001b[0m \u001b[0mdf_result\u001b[0m\u001b[0;34m\u001b[0m\u001b[0;34m\u001b[0m\u001b[0m\n",
      "\u001b[0;32m/opt/anaconda3/envs/ie/lib/python3.9/site-packages/pandas/__init__.py\u001b[0m in \u001b[0;36m__getattr__\u001b[0;34m(name)\u001b[0m\n\u001b[1;32m    242\u001b[0m         \u001b[0;32mreturn\u001b[0m \u001b[0m_SparseArray\u001b[0m\u001b[0;34m\u001b[0m\u001b[0;34m\u001b[0m\u001b[0m\n\u001b[1;32m    243\u001b[0m \u001b[0;34m\u001b[0m\u001b[0m\n\u001b[0;32m--> 244\u001b[0;31m     \u001b[0;32mraise\u001b[0m \u001b[0mAttributeError\u001b[0m\u001b[0;34m(\u001b[0m\u001b[0;34mf\"module 'pandas' has no attribute '{name}'\"\u001b[0m\u001b[0;34m)\u001b[0m\u001b[0;34m\u001b[0m\u001b[0;34m\u001b[0m\u001b[0m\n\u001b[0m\u001b[1;32m    245\u001b[0m \u001b[0;34m\u001b[0m\u001b[0m\n\u001b[1;32m    246\u001b[0m \u001b[0;34m\u001b[0m\u001b[0m\n",
      "\u001b[0;31mAttributeError\u001b[0m: module 'pandas' has no attribute 'conct'"
     ]
    }
   ],
   "source": [
    "df_result = pd.conct([df_result, df_trivial_result], axis=0, ignore_index=True)\n",
    "\n",
    "df_result"
   ]
  },
  {
   "cell_type": "code",
   "execution_count": 11,
   "id": "8c574ea6-8c2f-44ab-bf24-897c8b7f21ea",
   "metadata": {},
   "outputs": [
    {
     "ename": "NameError",
     "evalue": "name 'df_result' is not defined",
     "output_type": "error",
     "traceback": [
      "\u001b[0;31m---------------------------------------------------------------------------\u001b[0m",
      "\u001b[0;31mNameError\u001b[0m                                 Traceback (most recent call last)",
      "\u001b[0;32m<ipython-input-11-4f172f9b463e>\u001b[0m in \u001b[0;36m<module>\u001b[0;34m\u001b[0m\n\u001b[0;32m----> 1\u001b[0;31m \u001b[0mdf_result_measurement\u001b[0m \u001b[0;34m=\u001b[0m \u001b[0mdf_result\u001b[0m\u001b[0;34m[\u001b[0m\u001b[0mdf_result\u001b[0m\u001b[0;34m[\u001b[0m\u001b[0;34m'op'\u001b[0m\u001b[0;34m]\u001b[0m \u001b[0;34m==\u001b[0m \u001b[0;34m'=~'\u001b[0m\u001b[0;34m]\u001b[0m\u001b[0;34m\u001b[0m\u001b[0;34m\u001b[0m\u001b[0m\n\u001b[0m\u001b[1;32m      2\u001b[0m \u001b[0mdf_result_variance\u001b[0m \u001b[0;34m=\u001b[0m \u001b[0mdf_result\u001b[0m\u001b[0;34m[\u001b[0m\u001b[0mdf_result\u001b[0m\u001b[0;34m[\u001b[0m\u001b[0;34m'op'\u001b[0m\u001b[0;34m]\u001b[0m \u001b[0;34m==\u001b[0m \u001b[0;34m'~~'\u001b[0m\u001b[0;34m]\u001b[0m\u001b[0;34m\u001b[0m\u001b[0;34m\u001b[0m\u001b[0m\n\u001b[1;32m      3\u001b[0m \u001b[0mdropping_index\u001b[0m \u001b[0;34m=\u001b[0m \u001b[0mdf_result_variance\u001b[0m\u001b[0;34m[\u001b[0m\u001b[0;34m(\u001b[0m\u001b[0mdf_result_variance\u001b[0m\u001b[0;34m[\u001b[0m\u001b[0;34m'lval'\u001b[0m\u001b[0;34m]\u001b[0m \u001b[0;34m==\u001b[0m \u001b[0;34m'math'\u001b[0m\u001b[0;34m)\u001b[0m \u001b[0;34m&\u001b[0m \u001b[0;34m(\u001b[0m\u001b[0mdf_result_variance\u001b[0m\u001b[0;34m[\u001b[0m\u001b[0;34m'rval'\u001b[0m\u001b[0;34m]\u001b[0m \u001b[0;34m==\u001b[0m \u001b[0;34m'memory'\u001b[0m\u001b[0;34m)\u001b[0m\u001b[0;34m]\u001b[0m\u001b[0;34m.\u001b[0m\u001b[0mindex\u001b[0m\u001b[0;34m.\u001b[0m\u001b[0mvalues\u001b[0m\u001b[0;34m[\u001b[0m\u001b[0;36m0\u001b[0m\u001b[0;34m]\u001b[0m\u001b[0;34m\u001b[0m\u001b[0;34m\u001b[0m\u001b[0m\n\u001b[1;32m      4\u001b[0m \u001b[0mdf_result_math_memory\u001b[0m \u001b[0;34m=\u001b[0m \u001b[0mdf_result\u001b[0m\u001b[0;34m.\u001b[0m\u001b[0miloc\u001b[0m\u001b[0;34m[\u001b[0m\u001b[0mdropping_index\u001b[0m\u001b[0;34m,\u001b[0m \u001b[0;34m:\u001b[0m\u001b[0;34m]\u001b[0m\u001b[0;34m\u001b[0m\u001b[0;34m\u001b[0m\u001b[0m\n\u001b[1;32m      5\u001b[0m \u001b[0mdf_result_variance\u001b[0m \u001b[0;34m=\u001b[0m \u001b[0mdf_result_variance\u001b[0m\u001b[0;34m.\u001b[0m\u001b[0mdrop\u001b[0m\u001b[0;34m(\u001b[0m\u001b[0mdropping_index\u001b[0m\u001b[0;34m,\u001b[0m \u001b[0maxis\u001b[0m\u001b[0;34m=\u001b[0m\u001b[0;36m0\u001b[0m\u001b[0;34m)\u001b[0m\u001b[0;34m\u001b[0m\u001b[0;34m\u001b[0m\u001b[0m\n",
      "\u001b[0;31mNameError\u001b[0m: name 'df_result' is not defined"
     ]
    }
   ],
   "source": [
    "df_result_measurement = df_result[df_result['op'] == '=~']\n",
    "df_result_variance = df_result[df_result['op'] == '~~']\n",
    "dropping_index = df_result_variance[(df_result_variance['lval'] == 'math') & (df_result_variance['rval'] == 'memory')].index.values[0]\n",
    "df_result_math_memory = df_result.iloc[dropping_index, :]\n",
    "df_result_variance = df_result_variance.drop(dropping_index, axis=0)\n",
    "\n",
    "print('df_result_structural')\n",
    "display(df_result_structural)\n",
    "\n",
    "print('df_result_measurement')\n",
    "display(df_result_measurement)\n",
    "\n",
    "print('df_result_math_memory')\n",
    "display(df_result_math_memory)\n",
    "\n",
    "print('df_result_variance')\n",
    "display(df_result_variance)"
   ]
  },
  {
   "cell_type": "code",
   "execution_count": 12,
   "id": "4a6da9f6-269f-4d86-90bf-c75b24dfb36a",
   "metadata": {},
   "outputs": [
    {
     "ename": "NameError",
     "evalue": "name 'df_result_variance' is not defined",
     "output_type": "error",
     "traceback": [
      "\u001b[0;31m---------------------------------------------------------------------------\u001b[0m",
      "\u001b[0;31mNameError\u001b[0m                                 Traceback (most recent call last)",
      "\u001b[0;32m<ipython-input-12-dfd63655d523>\u001b[0m in \u001b[0;36m<module>\u001b[0;34m\u001b[0m\n\u001b[1;32m      1\u001b[0m \u001b[0;31m# step 1 variance of lang\u001b[0m\u001b[0;34m\u001b[0m\u001b[0;34m\u001b[0m\u001b[0;34m\u001b[0m\u001b[0m\n\u001b[0;32m----> 2\u001b[0;31m \u001b[0mdf_result_variance\u001b[0m\u001b[0;34m[\u001b[0m\u001b[0;34m'variable'\u001b[0m\u001b[0;34m]\u001b[0m \u001b[0;34m=\u001b[0m \u001b[0mdf_result_variance\u001b[0m\u001b[0;34m[\u001b[0m\u001b[0;34m'lval'\u001b[0m\u001b[0;34m]\u001b[0m\u001b[0;34m\u001b[0m\u001b[0;34m\u001b[0m\u001b[0m\n\u001b[0m\u001b[1;32m      3\u001b[0m \u001b[0mdf_result_variance\u001b[0m \u001b[0;34m=\u001b[0m \u001b[0mdf_result_variance\u001b[0m\u001b[0;34m.\u001b[0m\u001b[0mset_index\u001b[0m\u001b[0;34m(\u001b[0m\u001b[0;34m'variable'\u001b[0m\u001b[0;34m)\u001b[0m\u001b[0;34m\u001b[0m\u001b[0;34m\u001b[0m\u001b[0m\n\u001b[1;32m      4\u001b[0m \u001b[0mdf_result_variance\u001b[0m\u001b[0;34m[\u001b[0m\u001b[0;34m'variance'\u001b[0m\u001b[0;34m]\u001b[0m \u001b[0;34m=\u001b[0m \u001b[0mnp\u001b[0m\u001b[0;34m.\u001b[0m\u001b[0mnan\u001b[0m\u001b[0;34m\u001b[0m\u001b[0;34m\u001b[0m\u001b[0m\n\u001b[1;32m      5\u001b[0m \u001b[0;34m\u001b[0m\u001b[0m\n",
      "\u001b[0;31mNameError\u001b[0m: name 'df_result_variance' is not defined"
     ]
    }
   ],
   "source": [
    "# step 1 variance of lang\n",
    "df_result_variance['variable'] = df_result_variance['lval']\n",
    "df_result_variance = df_result_variance.set_index('variable')\n",
    "df_result_variance['variance'] = np.nan\n",
    "\n",
    "lang_var = df_result_variance.loc['lang', 'Value']\n",
    "df_result_variance.loc['lang', 'variance'] = lang_var\n",
    "\n",
    "df_result_variance"
   ]
  },
  {
   "cell_type": "code",
   "execution_count": 13,
   "id": "7252265e-9a61-407f-8d9c-4c9e28cbbef1",
   "metadata": {},
   "outputs": [
    {
     "ename": "NameError",
     "evalue": "name 'df_result_structural' is not defined",
     "output_type": "error",
     "traceback": [
      "\u001b[0;31m---------------------------------------------------------------------------\u001b[0m",
      "\u001b[0;31mNameError\u001b[0m                                 Traceback (most recent call last)",
      "\u001b[0;32m<ipython-input-13-9483bdca443f>\u001b[0m in \u001b[0;36m<module>\u001b[0;34m\u001b[0m\n\u001b[1;32m      6\u001b[0m     \u001b[0;32mreturn\u001b[0m \u001b[0mvar\u001b[0m\u001b[0;34m\u001b[0m\u001b[0;34m\u001b[0m\u001b[0m\n\u001b[1;32m      7\u001b[0m \u001b[0;34m\u001b[0m\u001b[0m\n\u001b[0;32m----> 8\u001b[0;31m \u001b[0mvar_math\u001b[0m \u001b[0;34m=\u001b[0m \u001b[0mcompute_var_of_math_memory\u001b[0m\u001b[0;34m(\u001b[0m\u001b[0;34m'math'\u001b[0m\u001b[0;34m)\u001b[0m\u001b[0;34m\u001b[0m\u001b[0;34m\u001b[0m\u001b[0m\n\u001b[0m\u001b[1;32m      9\u001b[0m \u001b[0mvar_memory\u001b[0m \u001b[0;34m=\u001b[0m \u001b[0mcompute_var_of_math_memory\u001b[0m\u001b[0;34m(\u001b[0m\u001b[0;34m'memory'\u001b[0m\u001b[0;34m)\u001b[0m\u001b[0;34m\u001b[0m\u001b[0;34m\u001b[0m\u001b[0m\n\u001b[1;32m     10\u001b[0m \u001b[0;34m\u001b[0m\u001b[0m\n",
      "\u001b[0;32m<ipython-input-13-9483bdca443f>\u001b[0m in \u001b[0;36mcompute_var_of_math_memory\u001b[0;34m(target)\u001b[0m\n\u001b[1;32m      2\u001b[0m \u001b[0;34m\u001b[0m\u001b[0m\n\u001b[1;32m      3\u001b[0m \u001b[0;32mdef\u001b[0m \u001b[0mcompute_var_of_math_memory\u001b[0m\u001b[0;34m(\u001b[0m\u001b[0mtarget\u001b[0m\u001b[0;34m)\u001b[0m\u001b[0;34m:\u001b[0m\u001b[0;34m\u001b[0m\u001b[0;34m\u001b[0m\u001b[0m\n\u001b[0;32m----> 4\u001b[0;31m     \u001b[0mcoef\u001b[0m \u001b[0;34m=\u001b[0m \u001b[0mdf_result_structural\u001b[0m\u001b[0;34m[\u001b[0m\u001b[0mdf_result_structural\u001b[0m\u001b[0;34m[\u001b[0m\u001b[0;34m'lval'\u001b[0m\u001b[0;34m]\u001b[0m \u001b[0;34m==\u001b[0m \u001b[0mtarget\u001b[0m\u001b[0;34m]\u001b[0m\u001b[0;34m[\u001b[0m\u001b[0;34m'Value'\u001b[0m\u001b[0;34m]\u001b[0m\u001b[0;34m.\u001b[0m\u001b[0mvalues\u001b[0m\u001b[0;34m[\u001b[0m\u001b[0;36m0\u001b[0m\u001b[0;34m]\u001b[0m\u001b[0;34m\u001b[0m\u001b[0;34m\u001b[0m\u001b[0m\n\u001b[0m\u001b[1;32m      5\u001b[0m     \u001b[0mvar\u001b[0m \u001b[0;34m=\u001b[0m \u001b[0mdf_result_variance\u001b[0m\u001b[0;34m[\u001b[0m\u001b[0mdf_result_variance\u001b[0m\u001b[0;34m[\u001b[0m\u001b[0;34m'lval'\u001b[0m\u001b[0;34m]\u001b[0m \u001b[0;34m==\u001b[0m \u001b[0mtarget\u001b[0m\u001b[0;34m]\u001b[0m\u001b[0;34m[\u001b[0m\u001b[0;34m'Value'\u001b[0m\u001b[0;34m]\u001b[0m\u001b[0;34m.\u001b[0m\u001b[0mvalues\u001b[0m\u001b[0;34m[\u001b[0m\u001b[0;36m0\u001b[0m\u001b[0;34m]\u001b[0m \u001b[0;34m+\u001b[0m \u001b[0mlang_var\u001b[0m \u001b[0;34m*\u001b[0m \u001b[0mcoef\u001b[0m\u001b[0;34m**\u001b[0m\u001b[0;36m2\u001b[0m\u001b[0;34m\u001b[0m\u001b[0;34m\u001b[0m\u001b[0m\n\u001b[1;32m      6\u001b[0m     \u001b[0;32mreturn\u001b[0m \u001b[0mvar\u001b[0m\u001b[0;34m\u001b[0m\u001b[0;34m\u001b[0m\u001b[0m\n",
      "\u001b[0;31mNameError\u001b[0m: name 'df_result_structural' is not defined"
     ]
    }
   ],
   "source": [
    "# step 2 variance of math, memory\n",
    "\n",
    "def compute_var_of_math_memory(target):\n",
    "    coef = df_result_structural[df_result_structural['lval'] == target]['Value'].values[0]\n",
    "    var = df_result_variance[df_result_variance['lval'] == target]['Value'].values[0] + lang_var * coef**2\n",
    "    return var\n",
    "\n",
    "var_math = compute_var_of_math_memory('math')\n",
    "var_memory = compute_var_of_math_memory('memory')\n",
    "\n",
    "df_result_variance.loc['math', 'variance'] = var_math\n",
    "df_result_variance.loc['memory', 'variance'] = var_memory\n",
    "\n",
    "df_result_variance\n"
   ]
  },
  {
   "cell_type": "code",
   "execution_count": 14,
   "id": "b192e4ef-70b7-49a6-b5ce-41b675228a3a",
   "metadata": {},
   "outputs": [
    {
     "ename": "NameError",
     "evalue": "name 'df_result_variance' is not defined",
     "output_type": "error",
     "traceback": [
      "\u001b[0;31m---------------------------------------------------------------------------\u001b[0m",
      "\u001b[0;31mNameError\u001b[0m                                 Traceback (most recent call last)",
      "\u001b[0;32m<ipython-input-14-2b6bb8279b58>\u001b[0m in \u001b[0;36m<module>\u001b[0;34m\u001b[0m\n\u001b[1;32m     24\u001b[0m \u001b[0;34m\u001b[0m\u001b[0m\n\u001b[1;32m     25\u001b[0m \u001b[0;32mfor\u001b[0m \u001b[0mkey\u001b[0m \u001b[0;32min\u001b[0m \u001b[0mmap_latent_manifest\u001b[0m\u001b[0;34m.\u001b[0m\u001b[0mkeys\u001b[0m\u001b[0;34m(\u001b[0m\u001b[0;34m)\u001b[0m\u001b[0;34m:\u001b[0m\u001b[0;34m\u001b[0m\u001b[0;34m\u001b[0m\u001b[0m\n\u001b[0;32m---> 26\u001b[0;31m     \u001b[0mdf_result_variance\u001b[0m\u001b[0;34m.\u001b[0m\u001b[0mloc\u001b[0m\u001b[0;34m[\u001b[0m\u001b[0mkey\u001b[0m\u001b[0;34m,\u001b[0m \u001b[0;34m'variance'\u001b[0m\u001b[0;34m]\u001b[0m \u001b[0;34m=\u001b[0m \u001b[0mcompute_var_of_manifest_var\u001b[0m\u001b[0;34m(\u001b[0m\u001b[0mkey\u001b[0m\u001b[0;34m)\u001b[0m\u001b[0;34m\u001b[0m\u001b[0;34m\u001b[0m\u001b[0m\n\u001b[0m\u001b[1;32m     27\u001b[0m \u001b[0;34m\u001b[0m\u001b[0m\n\u001b[1;32m     28\u001b[0m \u001b[0mdf_result_variance\u001b[0m\u001b[0;34m\u001b[0m\u001b[0;34m\u001b[0m\u001b[0m\n",
      "\u001b[0;32m<ipython-input-14-2b6bb8279b58>\u001b[0m in \u001b[0;36mcompute_var_of_manifest_var\u001b[0;34m(target)\u001b[0m\n\u001b[1;32m     18\u001b[0m \u001b[0;32mdef\u001b[0m \u001b[0mcompute_var_of_manifest_var\u001b[0m\u001b[0;34m(\u001b[0m\u001b[0mtarget\u001b[0m\u001b[0;34m)\u001b[0m\u001b[0;34m:\u001b[0m\u001b[0;34m\u001b[0m\u001b[0;34m\u001b[0m\u001b[0m\n\u001b[1;32m     19\u001b[0m     \u001b[0mlatent\u001b[0m \u001b[0;34m=\u001b[0m \u001b[0mmap_latent_manifest\u001b[0m\u001b[0;34m[\u001b[0m\u001b[0mtarget\u001b[0m\u001b[0;34m]\u001b[0m\u001b[0;34m\u001b[0m\u001b[0;34m\u001b[0m\u001b[0m\n\u001b[0;32m---> 20\u001b[0;31m     \u001b[0mlatent_var\u001b[0m \u001b[0;34m=\u001b[0m \u001b[0mdf_result_variance\u001b[0m\u001b[0;34m.\u001b[0m\u001b[0mloc\u001b[0m\u001b[0;34m[\u001b[0m\u001b[0mlatent\u001b[0m\u001b[0;34m,\u001b[0m \u001b[0;34m'variance'\u001b[0m\u001b[0;34m]\u001b[0m\u001b[0;34m\u001b[0m\u001b[0;34m\u001b[0m\u001b[0m\n\u001b[0m\u001b[1;32m     21\u001b[0m     \u001b[0mcoef\u001b[0m \u001b[0;34m=\u001b[0m \u001b[0mdf_result_measurement\u001b[0m\u001b[0;34m[\u001b[0m\u001b[0;34m(\u001b[0m\u001b[0mdf_result_measurement\u001b[0m\u001b[0;34m[\u001b[0m\u001b[0;34m'rval'\u001b[0m\u001b[0;34m]\u001b[0m \u001b[0;34m==\u001b[0m \u001b[0mtarget\u001b[0m\u001b[0;34m)\u001b[0m\u001b[0;34m]\u001b[0m\u001b[0;34m[\u001b[0m\u001b[0;34m'Value'\u001b[0m\u001b[0;34m]\u001b[0m\u001b[0;34m.\u001b[0m\u001b[0mvalues\u001b[0m\u001b[0;34m[\u001b[0m\u001b[0;36m0\u001b[0m\u001b[0;34m]\u001b[0m\u001b[0;34m\u001b[0m\u001b[0;34m\u001b[0m\u001b[0m\n\u001b[1;32m     22\u001b[0m     \u001b[0mvar\u001b[0m \u001b[0;34m=\u001b[0m \u001b[0mdf_result_variance\u001b[0m\u001b[0;34m[\u001b[0m\u001b[0mdf_result_variance\u001b[0m\u001b[0;34m[\u001b[0m\u001b[0;34m'lval'\u001b[0m\u001b[0;34m]\u001b[0m \u001b[0;34m==\u001b[0m \u001b[0mtarget\u001b[0m\u001b[0;34m]\u001b[0m\u001b[0;34m[\u001b[0m\u001b[0;34m'Value'\u001b[0m\u001b[0;34m]\u001b[0m\u001b[0;34m.\u001b[0m\u001b[0mvalues\u001b[0m\u001b[0;34m[\u001b[0m\u001b[0;36m0\u001b[0m\u001b[0;34m]\u001b[0m \u001b[0;34m+\u001b[0m \u001b[0mlatent_var\u001b[0m \u001b[0;34m*\u001b[0m \u001b[0mcoef\u001b[0m\u001b[0;34m**\u001b[0m\u001b[0;36m2\u001b[0m\u001b[0;34m\u001b[0m\u001b[0;34m\u001b[0m\u001b[0m\n",
      "\u001b[0;31mNameError\u001b[0m: name 'df_result_variance' is not defined"
     ]
    }
   ],
   "source": [
    "# step 3 variance of manifest variables\n",
    "\n",
    "map_latent_manifest = {\n",
    "    '国語': 'lang',\n",
    "    '英語': 'lang',\n",
    "    '倫理': 'lang',\n",
    "    '数学': 'math',\n",
    "    '物理': 'math',\n",
    "    '化学': 'math',\n",
    "    '生物': 'memory',\n",
    "    '地学': 'memory',\n",
    "    '日本史': 'memory',\n",
    "    '世界史': 'memory',\n",
    "    '地理': 'memory',\n",
    "    '経済': 'memory',\n",
    "}\n",
    "\n",
    "def compute_var_of_manifest_var(target):\n",
    "    latent = map_latent_manifest[target]\n",
    "    latent_var = df_result_variance.loc[latent, 'variance']\n",
    "    coef = df_result_measurement[(df_result_measurement['rval'] == target)]['Value'].values[0]\n",
    "    var = df_result_variance[df_result_variance['lval'] == target]['Value'].values[0] + latent_var * coef**2\n",
    "    return var\n",
    "\n",
    "for key in map_latent_manifest.keys():\n",
    "    df_result_variance.loc[key, 'variance'] = compute_var_of_manifest_var(key)\n",
    "\n",
    "df_result_variance\n"
   ]
  },
  {
   "cell_type": "code",
   "execution_count": 15,
   "id": "e577502a-f94a-43c7-b8db-a10ac2d55221",
   "metadata": {},
   "outputs": [
    {
     "ename": "NameError",
     "evalue": "name 'df_result_structural' is not defined",
     "output_type": "error",
     "traceback": [
      "\u001b[0;31m---------------------------------------------------------------------------\u001b[0m",
      "\u001b[0;31mNameError\u001b[0m                                 Traceback (most recent call last)",
      "\u001b[0;32m<ipython-input-15-dda99a9ef1db>\u001b[0m in \u001b[0;36m<module>\u001b[0;34m\u001b[0m\n\u001b[1;32m      1\u001b[0m \u001b[0;31m# step 4 std coef of structural part\u001b[0m\u001b[0;34m\u001b[0m\u001b[0;34m\u001b[0m\u001b[0;34m\u001b[0m\u001b[0m\n\u001b[1;32m      2\u001b[0m \u001b[0;34m\u001b[0m\u001b[0m\n\u001b[0;32m----> 3\u001b[0;31m \u001b[0mdf_result_structural\u001b[0m \u001b[0;34m=\u001b[0m \u001b[0mdf_result_structural\u001b[0m\u001b[0;34m.\u001b[0m\u001b[0mmerge\u001b[0m\u001b[0;34m(\u001b[0m\u001b[0mdf_result_variance\u001b[0m\u001b[0;34m[\u001b[0m\u001b[0;34m[\u001b[0m\u001b[0;34m'variance'\u001b[0m\u001b[0;34m]\u001b[0m\u001b[0;34m]\u001b[0m\u001b[0;34m,\u001b[0m \u001b[0mhow\u001b[0m\u001b[0;34m=\u001b[0m\u001b[0;34m'left'\u001b[0m\u001b[0;34m,\u001b[0m \u001b[0mleft_on\u001b[0m\u001b[0;34m=\u001b[0m\u001b[0;34m'lval'\u001b[0m\u001b[0;34m,\u001b[0m \u001b[0mright_index\u001b[0m\u001b[0;34m=\u001b[0m\u001b[0;32mTrue\u001b[0m\u001b[0;34m)\u001b[0m\u001b[0;34m.\u001b[0m\u001b[0mrename\u001b[0m\u001b[0;34m(\u001b[0m\u001b[0mcolumns\u001b[0m\u001b[0;34m=\u001b[0m\u001b[0;34m{\u001b[0m\u001b[0;34m'variance'\u001b[0m\u001b[0;34m:\u001b[0m \u001b[0;34m'lvariance'\u001b[0m\u001b[0;34m}\u001b[0m\u001b[0;34m)\u001b[0m\u001b[0;34m\u001b[0m\u001b[0;34m\u001b[0m\u001b[0m\n\u001b[0m\u001b[1;32m      4\u001b[0m \u001b[0mdf_result_structural\u001b[0m \u001b[0;34m=\u001b[0m \u001b[0mdf_result_structural\u001b[0m\u001b[0;34m.\u001b[0m\u001b[0mmerge\u001b[0m\u001b[0;34m(\u001b[0m\u001b[0mdf_result_variance\u001b[0m\u001b[0;34m[\u001b[0m\u001b[0;34m[\u001b[0m\u001b[0;34m'variance'\u001b[0m\u001b[0;34m]\u001b[0m\u001b[0;34m]\u001b[0m\u001b[0;34m,\u001b[0m \u001b[0mhow\u001b[0m\u001b[0;34m=\u001b[0m\u001b[0;34m'left'\u001b[0m\u001b[0;34m,\u001b[0m \u001b[0mleft_on\u001b[0m\u001b[0;34m=\u001b[0m\u001b[0;34m'rval'\u001b[0m\u001b[0;34m,\u001b[0m \u001b[0mright_index\u001b[0m\u001b[0;34m=\u001b[0m\u001b[0;32mTrue\u001b[0m\u001b[0;34m)\u001b[0m\u001b[0;34m.\u001b[0m\u001b[0mrename\u001b[0m\u001b[0;34m(\u001b[0m\u001b[0mcolumns\u001b[0m\u001b[0;34m=\u001b[0m\u001b[0;34m{\u001b[0m\u001b[0;34m'variance'\u001b[0m\u001b[0;34m:\u001b[0m \u001b[0;34m'rvariance'\u001b[0m\u001b[0;34m}\u001b[0m\u001b[0;34m)\u001b[0m\u001b[0;34m\u001b[0m\u001b[0;34m\u001b[0m\u001b[0m\n\u001b[1;32m      5\u001b[0m \u001b[0mdf_result_structural\u001b[0m\u001b[0;34m[\u001b[0m\u001b[0;34m'std_coef'\u001b[0m\u001b[0;34m]\u001b[0m \u001b[0;34m=\u001b[0m \u001b[0mdf_result_structural\u001b[0m\u001b[0;34m[\u001b[0m\u001b[0;34m'Value'\u001b[0m\u001b[0;34m]\u001b[0m \u001b[0;34m/\u001b[0m \u001b[0mnp\u001b[0m\u001b[0;34m.\u001b[0m\u001b[0msqrt\u001b[0m\u001b[0;34m(\u001b[0m\u001b[0mdf_result_structural\u001b[0m\u001b[0;34m[\u001b[0m\u001b[0;34m'lvariance'\u001b[0m\u001b[0;34m]\u001b[0m\u001b[0;34m)\u001b[0m \u001b[0;34m*\u001b[0m \u001b[0mnp\u001b[0m\u001b[0;34m.\u001b[0m\u001b[0msqrt\u001b[0m\u001b[0;34m(\u001b[0m\u001b[0mdf_result_structural\u001b[0m\u001b[0;34m[\u001b[0m\u001b[0;34m'rvariance'\u001b[0m\u001b[0;34m]\u001b[0m\u001b[0;34m)\u001b[0m\u001b[0;34m\u001b[0m\u001b[0;34m\u001b[0m\u001b[0m\n",
      "\u001b[0;31mNameError\u001b[0m: name 'df_result_structural' is not defined"
     ]
    }
   ],
   "source": [
    "# step 4 std coef of structural part\n",
    "\n",
    "df_result_structural = df_result_structural.merge(df_result_variance[['variance']], how='left', left_on='lval', right_index=True).rename(columns={'variance': 'lvariance'})\n",
    "df_result_structural = df_result_structural.merge(df_result_variance[['variance']], how='left', left_on='rval', right_index=True).rename(columns={'variance': 'rvariance'})\n",
    "df_result_structural['std_coef'] = df_result_structural['Value'] / np.sqrt(df_result_structural['lvariance']) * np.sqrt(df_result_structural['rvariance'])\n",
    "\n",
    "display(df_result_structural)\n",
    "\n",
    "df_result_math_memory = pd.DataFrame(df_result_math_memory).T\n",
    "df_result_math_memory = df_result_math_memory.merge(df_result_variance[['variance']], how='left', left_on='lval', right_index=True).rename(columns={'variance': 'lvariance'})\n",
    "df_result_math_memory = df_result_math_memory.merge(df_result_variance[['variance']], how='left', left_on='rval', right_index=True).rename(columns={'variance': 'rvariance'})\n",
    "df_result_math_memory['std_coef'] = df_result_math_memory['Value'] / np.sqrt(df_result_math_memory['lvariance']) / np.sqrt(df_result_math_memory['rvariance'])\n",
    "\n",
    "display(df_result_math_memory)\n"
   ]
  },
  {
   "cell_type": "code",
   "execution_count": 16,
   "id": "4b755d35-9b81-4dc9-b46f-8abf899e0e00",
   "metadata": {},
   "outputs": [
    {
     "ename": "NameError",
     "evalue": "name 'df_result_measurement' is not defined",
     "output_type": "error",
     "traceback": [
      "\u001b[0;31m---------------------------------------------------------------------------\u001b[0m",
      "\u001b[0;31mNameError\u001b[0m                                 Traceback (most recent call last)",
      "\u001b[0;32m<ipython-input-16-195578a6501d>\u001b[0m in \u001b[0;36m<module>\u001b[0;34m\u001b[0m\n\u001b[1;32m      1\u001b[0m \u001b[0;31m# step 5 std coef of measurement part\u001b[0m\u001b[0;34m\u001b[0m\u001b[0;34m\u001b[0m\u001b[0;34m\u001b[0m\u001b[0m\n\u001b[1;32m      2\u001b[0m \u001b[0;34m\u001b[0m\u001b[0m\n\u001b[0;32m----> 3\u001b[0;31m \u001b[0mdf_result_measurement\u001b[0m \u001b[0;34m=\u001b[0m \u001b[0mdf_result_measurement\u001b[0m\u001b[0;34m.\u001b[0m\u001b[0mmerge\u001b[0m\u001b[0;34m(\u001b[0m\u001b[0mdf_result_variance\u001b[0m\u001b[0;34m[\u001b[0m\u001b[0;34m[\u001b[0m\u001b[0;34m'variance'\u001b[0m\u001b[0;34m]\u001b[0m\u001b[0;34m]\u001b[0m\u001b[0;34m,\u001b[0m \u001b[0mhow\u001b[0m\u001b[0;34m=\u001b[0m\u001b[0;34m'left'\u001b[0m\u001b[0;34m,\u001b[0m \u001b[0mleft_on\u001b[0m\u001b[0;34m=\u001b[0m\u001b[0;34m'lval'\u001b[0m\u001b[0;34m,\u001b[0m \u001b[0mright_index\u001b[0m\u001b[0;34m=\u001b[0m\u001b[0;32mTrue\u001b[0m\u001b[0;34m)\u001b[0m\u001b[0;34m.\u001b[0m\u001b[0mrename\u001b[0m\u001b[0;34m(\u001b[0m\u001b[0mcolumns\u001b[0m\u001b[0;34m=\u001b[0m\u001b[0;34m{\u001b[0m\u001b[0;34m'variance'\u001b[0m\u001b[0;34m:\u001b[0m \u001b[0;34m'lvariance'\u001b[0m\u001b[0;34m}\u001b[0m\u001b[0;34m)\u001b[0m\u001b[0;34m\u001b[0m\u001b[0;34m\u001b[0m\u001b[0m\n\u001b[0m\u001b[1;32m      4\u001b[0m \u001b[0mdf_result_measurement\u001b[0m \u001b[0;34m=\u001b[0m \u001b[0mdf_result_measurement\u001b[0m\u001b[0;34m.\u001b[0m\u001b[0mmerge\u001b[0m\u001b[0;34m(\u001b[0m\u001b[0mdf_result_variance\u001b[0m\u001b[0;34m[\u001b[0m\u001b[0;34m[\u001b[0m\u001b[0;34m'variance'\u001b[0m\u001b[0;34m]\u001b[0m\u001b[0;34m]\u001b[0m\u001b[0;34m,\u001b[0m \u001b[0mhow\u001b[0m\u001b[0;34m=\u001b[0m\u001b[0;34m'left'\u001b[0m\u001b[0;34m,\u001b[0m \u001b[0mleft_on\u001b[0m\u001b[0;34m=\u001b[0m\u001b[0;34m'rval'\u001b[0m\u001b[0;34m,\u001b[0m \u001b[0mright_index\u001b[0m\u001b[0;34m=\u001b[0m\u001b[0;32mTrue\u001b[0m\u001b[0;34m)\u001b[0m\u001b[0;34m.\u001b[0m\u001b[0mrename\u001b[0m\u001b[0;34m(\u001b[0m\u001b[0mcolumns\u001b[0m\u001b[0;34m=\u001b[0m\u001b[0;34m{\u001b[0m\u001b[0;34m'variance'\u001b[0m\u001b[0;34m:\u001b[0m \u001b[0;34m'rvariance'\u001b[0m\u001b[0;34m}\u001b[0m\u001b[0;34m)\u001b[0m\u001b[0;34m\u001b[0m\u001b[0;34m\u001b[0m\u001b[0m\n\u001b[1;32m      5\u001b[0m \u001b[0mdf_result_measurement\u001b[0m\u001b[0;34m[\u001b[0m\u001b[0;34m'std_coef'\u001b[0m\u001b[0;34m]\u001b[0m \u001b[0;34m=\u001b[0m \u001b[0mdf_result_measurement\u001b[0m\u001b[0;34m[\u001b[0m\u001b[0;34m'Value'\u001b[0m\u001b[0;34m]\u001b[0m \u001b[0;34m*\u001b[0m \u001b[0mnp\u001b[0m\u001b[0;34m.\u001b[0m\u001b[0msqrt\u001b[0m\u001b[0;34m(\u001b[0m\u001b[0mdf_result_measurement\u001b[0m\u001b[0;34m[\u001b[0m\u001b[0;34m'lvariance'\u001b[0m\u001b[0;34m]\u001b[0m\u001b[0;34m)\u001b[0m \u001b[0;34m/\u001b[0m \u001b[0mnp\u001b[0m\u001b[0;34m.\u001b[0m\u001b[0msqrt\u001b[0m\u001b[0;34m(\u001b[0m\u001b[0mdf_result_measurement\u001b[0m\u001b[0;34m[\u001b[0m\u001b[0;34m'rvariance'\u001b[0m\u001b[0;34m]\u001b[0m\u001b[0;34m)\u001b[0m\u001b[0;34m\u001b[0m\u001b[0;34m\u001b[0m\u001b[0m\n",
      "\u001b[0;31mNameError\u001b[0m: name 'df_result_measurement' is not defined"
     ]
    }
   ],
   "source": [
    "\n",
    "# step 5 std coef of measurement part\n",
    "\n",
    "df_result_measurement = df_result_measurement.merge(df_result_variance[['variance']], how='left', left_on='lval', right_index=True).rename(columns={'variance': 'lvariance'})\n",
    "df_result_measurement = df_result_measurement.merge(df_result_variance[['variance']], how='left', left_on='rval', right_index=True).rename(columns={'variance': 'rvariance'})\n",
    "df_result_measurement['std_coef'] = df_result_measurement['Value'] * np.sqrt(df_result_measurement['lvariance']) / np.sqrt(df_result_measurement['rvariance'])\n",
    "\n",
    "df_result_measurement"
   ]
  },
  {
   "cell_type": "code",
   "execution_count": 17,
   "id": "72a80e7f-c6aa-4bd9-8747-7950bb6715a6",
   "metadata": {},
   "outputs": [
    {
     "ename": "NameError",
     "evalue": "name 'df_result_variance' is not defined",
     "output_type": "error",
     "traceback": [
      "\u001b[0;31m---------------------------------------------------------------------------\u001b[0m",
      "\u001b[0;31mNameError\u001b[0m                                 Traceback (most recent call last)",
      "\u001b[0;32m<ipython-input-17-f6f38f93816e>\u001b[0m in \u001b[0;36m<module>\u001b[0;34m\u001b[0m\n\u001b[1;32m      1\u001b[0m \u001b[0;31m# step 6 std coef of manifest variable part\u001b[0m\u001b[0;34m\u001b[0m\u001b[0;34m\u001b[0m\u001b[0;34m\u001b[0m\u001b[0m\n\u001b[1;32m      2\u001b[0m \u001b[0;34m\u001b[0m\u001b[0m\n\u001b[0;32m----> 3\u001b[0;31m \u001b[0mdf_result_variance\u001b[0m \u001b[0;34m=\u001b[0m \u001b[0mdf_result_variance\u001b[0m\u001b[0;34m.\u001b[0m\u001b[0mrename\u001b[0m\u001b[0;34m(\u001b[0m\u001b[0mcolumns\u001b[0m\u001b[0;34m=\u001b[0m\u001b[0;34m{\u001b[0m\u001b[0;34m'variance'\u001b[0m\u001b[0;34m:\u001b[0m \u001b[0;34m'lvariance'\u001b[0m\u001b[0;34m}\u001b[0m\u001b[0;34m)\u001b[0m\u001b[0;34m\u001b[0m\u001b[0;34m\u001b[0m\u001b[0m\n\u001b[0m\u001b[1;32m      4\u001b[0m \u001b[0mdf_result_variance\u001b[0m\u001b[0;34m[\u001b[0m\u001b[0;34m'rvariance'\u001b[0m\u001b[0;34m]\u001b[0m \u001b[0;34m=\u001b[0m \u001b[0mdf_result_variance\u001b[0m\u001b[0;34m[\u001b[0m\u001b[0;34m'lvariance'\u001b[0m\u001b[0;34m]\u001b[0m\u001b[0;34m\u001b[0m\u001b[0;34m\u001b[0m\u001b[0m\n\u001b[1;32m      5\u001b[0m \u001b[0;34m\u001b[0m\u001b[0m\n",
      "\u001b[0;31mNameError\u001b[0m: name 'df_result_variance' is not defined"
     ]
    }
   ],
   "source": [
    "\n",
    "# step 6 std coef of manifest variable part\n",
    "\n",
    "df_result_variance = df_result_variance.rename(columns={'variance': 'lvariance'})\n",
    "df_result_variance['rvariance'] = df_result_variance['lvariance']\n",
    "\n",
    "df_result_variance['std_coef'] = np.sqrt(df_result_variance['Value'] / df_result_variance['lvariance'])\n",
    "\n",
    "df_result_variance"
   ]
  },
  {
   "cell_type": "code",
   "execution_count": null,
   "id": "e9f735ff-ba8a-481e-ab2e-5cd49102a6a9",
   "metadata": {},
   "outputs": [],
   "source": []
  }
 ],
 "metadata": {
  "kernelspec": {
   "display_name": "Python 3",
   "language": "python",
   "name": "python3"
  },
  "language_info": {
   "codemirror_mode": {
    "name": "ipython",
    "version": 3
   },
   "file_extension": ".py",
   "mimetype": "text/x-python",
   "name": "python",
   "nbconvert_exporter": "python",
   "pygments_lexer": "ipython3",
   "version": "3.9.4"
  }
 },
 "nbformat": 4,
 "nbformat_minor": 5
}
